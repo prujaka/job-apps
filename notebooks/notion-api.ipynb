{
 "cells": [
  {
   "cell_type": "code",
   "id": "5176cc025050729a",
   "metadata": {
    "ExecuteTime": {
     "end_time": "2025-05-20T20:57:22.541464Z",
     "start_time": "2025-05-20T20:57:22.276763Z"
    }
   },
   "source": [
    "import pandas as pd\n",
    "import requests\n",
    "\n",
    "from job_apps.constants import API_HEADERS, URL_DATABASE"
   ],
   "outputs": [],
   "execution_count": 1
  },
  {
   "metadata": {
    "ExecuteTime": {
     "end_time": "2025-05-20T20:57:23.741018Z",
     "start_time": "2025-05-20T20:57:23.675743Z"
    }
   },
   "cell_type": "code",
   "source": [
    "%load_ext autoreload\n",
    "%autoreload 2"
   ],
   "id": "5a4ef941ee156b17",
   "outputs": [],
   "execution_count": 2
  },
  {
   "cell_type": "code",
   "id": "278bedd5-948d-4dab-8f96-e85e37d3c8f3",
   "metadata": {
    "tags": [],
    "ExecuteTime": {
     "end_time": "2025-05-20T20:57:27.530602Z",
     "start_time": "2025-05-20T20:57:24.772961Z"
    }
   },
   "source": [
    "search_response = requests.post(url=URL_DATABASE, headers=API_HEADERS)\n",
    "search_response_dict = search_response.json()"
   ],
   "outputs": [],
   "execution_count": 3
  },
  {
   "cell_type": "code",
   "execution_count": 17,
   "id": "8c7c6123-3724-420d-90ac-b9dd25184738",
   "metadata": {
    "tags": []
   },
   "outputs": [],
   "source": [
    "has_more = True\n",
    "cursor = None\n",
    "results = []\n",
    "body = {}\n",
    "\n",
    "while has_more:\n",
    "    if not cursor:\n",
    "        search_response = requests.post(url, headers=headers)\n",
    "    else:\n",
    "        search_response = requests.post(url, headers=headers, json=body)\n",
    "\n",
    "    search_response_dict = search_response.json()\n",
    "    has_more = search_response_dict[\"has_more\"]\n",
    "    cursor = search_response_dict[\"next_cursor\"]\n",
    "    body = {\"start_cursor\": cursor}\n",
    "\n",
    "    results_loc = search_response_dict[\"results\"]\n",
    "    results += results_loc"
   ]
  },
  {
   "cell_type": "code",
   "execution_count": 18,
   "id": "178d7722-ccd9-4dc0-8ed3-5a4762049486",
   "metadata": {},
   "outputs": [],
   "source": [
    "def get_dict(result):\n",
    "    if result[\"properties\"][\"Company\"][\"rich_text\"]:\n",
    "        company = result[\"properties\"][\"Company\"][\"rich_text\"][0][\"text\"][\"content\"]\n",
    "    else:\n",
    "        company = ''\n",
    "\n",
    "    if result[\"properties\"][\"Job Title\"][\"title\"]:\n",
    "        job_title = result[\"properties\"][\"Job Title\"][\"title\"][0][\"text\"][\"content\"]\n",
    "    else:\n",
    "        job_title = ''\n",
    "\n",
    "    if result[\"properties\"][\"Date Applied\"][\"date\"]:\n",
    "        date_applied = result[\"properties\"][\"Date Applied\"][\"date\"][\"start\"]\n",
    "    else:\n",
    "        date_applied = ''\n",
    "\n",
    "    if result[\"properties\"][\"Origin\"][\"select\"]:\n",
    "        origin = result[\"properties\"][\"Origin\"][\"select\"][\"name\"]\n",
    "    else:\n",
    "        origin = ''\n",
    "\n",
    "    if result[\"properties\"][\"Stage\"][\"select\"]:\n",
    "        stage = result[\"properties\"][\"Stage\"][\"select\"][\"name\"]\n",
    "    else:\n",
    "        stage = ''\n",
    "\n",
    "    if result[\"properties\"][\"Job Description\"][\"rich_text\"]:\n",
    "        job_description = result[\"properties\"][\"Job Description\"][\"rich_text\"][0][\"plain_text\"]\n",
    "    else:\n",
    "        job_description = ''\n",
    "\n",
    "    if result[\"properties\"]['Cover letter']['select']:\n",
    "        cover_letter = result[\"properties\"]['Cover letter']['select']['name']\n",
    "    else:\n",
    "        cover_letter = ''\n",
    "        \n",
    "    result_dict = {\"Job Title\": job_title,\n",
    "               \"Company\": company,\n",
    "               \"Date Applied\": date_applied,\n",
    "               \"Origin\": origin,\n",
    "               \"Stage\": stage,\n",
    "               \"Job Description\": job_description,\n",
    "               'Cover letter': cover_letter}\n",
    "    return result_dict"
   ]
  },
  {
   "cell_type": "code",
   "execution_count": 19,
   "id": "f50e3157-8cb1-4f1d-9fd0-29546fc64696",
   "metadata": {},
   "outputs": [],
   "source": [
    "entries = []\n",
    "\n",
    "for result in results:\n",
    "    entry = get_dict(result)\n",
    "    entries.append(entry)\n",
    "\n",
    "df = pd.DataFrame(entries)"
   ]
  },
  {
   "cell_type": "code",
   "execution_count": 20,
   "id": "b22d0178-673a-4596-bab5-3210f989f760",
   "metadata": {},
   "outputs": [
    {
     "data": {
      "text/plain": "                                             Job Title             Company  \\\n0                                       Data Scientist         Groupe BPCE   \n1                             Post docteur Datascience             Finovox   \n2                                       Data Scientist            Gameloft   \n3    Data Scientist - Timesseries Machine Learning ...  Schneider Electric   \n4                                 Consultant Data / IA             Noveane   \n..                                                 ...                 ...   \n300                                       Data Analyst    Societe Generale   \n301  Research Scientist Intern, AI Core Machine Lea...                Meta   \n302                           Développeur scientifique               ASTEK   \n303              Ingénieur-e de recherche data science        Saint-Gobain   \n304                                     Data Scientist         Polyconseil   \n\n    Date Applied                 Origin             Stage  \\\n0     2024-09-11  Welcome To The Jungle  Application Sent   \n1     2024-09-11  Welcome To The Jungle  Application Sent   \n2     2024-09-11  Welcome To The Jungle         Rejection   \n3     2024-09-11  Welcome To The Jungle  Application Sent   \n4     2024-09-10  Welcome To The Jungle  Application Sent   \n..           ...                    ...               ...   \n300   2024-01-05               LinkedIn         Rejection   \n301   2024-01-05               LinkedIn  Application Sent   \n302   2024-01-05               LinkedIn  Application Sent   \n303   2024-01-04               LinkedIn  Application Sent   \n304   2024-01-04            Pole Emploi  Application Sent   \n\n                                       Job Description Cover letter  \n0    https://www.welcometothejungle.com/en/companie...       Letter  \n1    https://www.welcometothejungle.com/en/companie...       Letter  \n2    https://www.welcometothejungle.com/en/companie...       Letter  \n3    https://www.welcometothejungle.com/en/companie...       Letter  \n4    https://www.welcometothejungle.com/en/companie...       Letter  \n..                                                 ...          ...  \n300  https://www.linkedin.com/jobs/view/3798999621/...               \n301  https://www.linkedin.com/jobs/view/3798417343/...               \n302  https://www.linkedin.com/jobs/view/3693935151/...               \n303  https://joinus.saint-gobain.com/fr/fra/red/p/6...               \n304                                                          Letter  \n\n[305 rows x 7 columns]",
      "text/html": "<div>\n<style scoped>\n    .dataframe tbody tr th:only-of-type {\n        vertical-align: middle;\n    }\n\n    .dataframe tbody tr th {\n        vertical-align: top;\n    }\n\n    .dataframe thead th {\n        text-align: right;\n    }\n</style>\n<table border=\"1\" class=\"dataframe\">\n  <thead>\n    <tr style=\"text-align: right;\">\n      <th></th>\n      <th>Job Title</th>\n      <th>Company</th>\n      <th>Date Applied</th>\n      <th>Origin</th>\n      <th>Stage</th>\n      <th>Job Description</th>\n      <th>Cover letter</th>\n    </tr>\n  </thead>\n  <tbody>\n    <tr>\n      <th>0</th>\n      <td>Data Scientist</td>\n      <td>Groupe BPCE</td>\n      <td>2024-09-11</td>\n      <td>Welcome To The Jungle</td>\n      <td>Application Sent</td>\n      <td>https://www.welcometothejungle.com/en/companie...</td>\n      <td>Letter</td>\n    </tr>\n    <tr>\n      <th>1</th>\n      <td>Post docteur Datascience</td>\n      <td>Finovox</td>\n      <td>2024-09-11</td>\n      <td>Welcome To The Jungle</td>\n      <td>Application Sent</td>\n      <td>https://www.welcometothejungle.com/en/companie...</td>\n      <td>Letter</td>\n    </tr>\n    <tr>\n      <th>2</th>\n      <td>Data Scientist</td>\n      <td>Gameloft</td>\n      <td>2024-09-11</td>\n      <td>Welcome To The Jungle</td>\n      <td>Rejection</td>\n      <td>https://www.welcometothejungle.com/en/companie...</td>\n      <td>Letter</td>\n    </tr>\n    <tr>\n      <th>3</th>\n      <td>Data Scientist - Timesseries Machine Learning ...</td>\n      <td>Schneider Electric</td>\n      <td>2024-09-11</td>\n      <td>Welcome To The Jungle</td>\n      <td>Application Sent</td>\n      <td>https://www.welcometothejungle.com/en/companie...</td>\n      <td>Letter</td>\n    </tr>\n    <tr>\n      <th>4</th>\n      <td>Consultant Data / IA</td>\n      <td>Noveane</td>\n      <td>2024-09-10</td>\n      <td>Welcome To The Jungle</td>\n      <td>Application Sent</td>\n      <td>https://www.welcometothejungle.com/en/companie...</td>\n      <td>Letter</td>\n    </tr>\n    <tr>\n      <th>...</th>\n      <td>...</td>\n      <td>...</td>\n      <td>...</td>\n      <td>...</td>\n      <td>...</td>\n      <td>...</td>\n      <td>...</td>\n    </tr>\n    <tr>\n      <th>300</th>\n      <td>Data Analyst</td>\n      <td>Societe Generale</td>\n      <td>2024-01-05</td>\n      <td>LinkedIn</td>\n      <td>Rejection</td>\n      <td>https://www.linkedin.com/jobs/view/3798999621/...</td>\n      <td></td>\n    </tr>\n    <tr>\n      <th>301</th>\n      <td>Research Scientist Intern, AI Core Machine Lea...</td>\n      <td>Meta</td>\n      <td>2024-01-05</td>\n      <td>LinkedIn</td>\n      <td>Application Sent</td>\n      <td>https://www.linkedin.com/jobs/view/3798417343/...</td>\n      <td></td>\n    </tr>\n    <tr>\n      <th>302</th>\n      <td>Développeur scientifique</td>\n      <td>ASTEK</td>\n      <td>2024-01-05</td>\n      <td>LinkedIn</td>\n      <td>Application Sent</td>\n      <td>https://www.linkedin.com/jobs/view/3693935151/...</td>\n      <td></td>\n    </tr>\n    <tr>\n      <th>303</th>\n      <td>Ingénieur-e de recherche data science</td>\n      <td>Saint-Gobain</td>\n      <td>2024-01-04</td>\n      <td>LinkedIn</td>\n      <td>Application Sent</td>\n      <td>https://joinus.saint-gobain.com/fr/fra/red/p/6...</td>\n      <td></td>\n    </tr>\n    <tr>\n      <th>304</th>\n      <td>Data Scientist</td>\n      <td>Polyconseil</td>\n      <td>2024-01-04</td>\n      <td>Pole Emploi</td>\n      <td>Application Sent</td>\n      <td></td>\n      <td>Letter</td>\n    </tr>\n  </tbody>\n</table>\n<p>305 rows × 7 columns</p>\n</div>"
     },
     "execution_count": 20,
     "metadata": {},
     "output_type": "execute_result"
    }
   ],
   "source": [
    "df"
   ]
  },
  {
   "cell_type": "code",
   "execution_count": 27,
   "id": "9c51ba41-9232-4d99-90cc-668b69181dc8",
   "metadata": {},
   "outputs": [
    {
     "data": {
      "text/plain": "np.float64(0.9770491803278689)"
     },
     "execution_count": 27,
     "metadata": {},
     "output_type": "execute_result"
    }
   ],
   "source": [
    "df['Stage'].value_counts(normalize=True).loc['Application Sent'] + df['Stage'].value_counts(normalize=True).loc['Rejection']"
   ]
  },
  {
   "cell_type": "code",
   "execution_count": null,
   "outputs": [],
   "source": [],
   "metadata": {
    "collapsed": false
   },
   "id": "4059d1d63f4f494a"
  }
 ],
 "metadata": {
  "kernelspec": {
   "display_name": "Python 3 (ipykernel)",
   "language": "python",
   "name": "python3"
  },
  "language_info": {
   "codemirror_mode": {
    "name": "ipython",
    "version": 3
   },
   "file_extension": ".py",
   "mimetype": "text/x-python",
   "name": "python",
   "nbconvert_exporter": "python",
   "pygments_lexer": "ipython3",
   "version": "3.10.6"
  }
 },
 "nbformat": 4,
 "nbformat_minor": 5
}
