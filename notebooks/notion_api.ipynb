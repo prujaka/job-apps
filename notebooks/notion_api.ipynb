{
 "cells": [
  {
   "cell_type": "code",
   "id": "5176cc025050729a",
   "metadata": {
    "ExecuteTime": {
     "end_time": "2025-05-22T21:09:49.272245Z",
     "start_time": "2025-05-22T21:09:48.987190Z"
    }
   },
   "source": [
    "import pandas as pd\n",
    "import requests\n",
    "\n",
    "from job_apps.constants import API_HEADERS, URL_DATABASE\n",
    "from job_apps.api_requests import fetch_database_jsons\n",
    "from job_apps.data_preprocessing import map_dict, build_dataframe"
   ],
   "outputs": [],
   "execution_count": 1
  },
  {
   "metadata": {
    "ExecuteTime": {
     "end_time": "2025-05-22T21:09:49.409595Z",
     "start_time": "2025-05-22T21:09:49.351923Z"
    }
   },
   "cell_type": "code",
   "source": [
    "%load_ext autoreload\n",
    "%autoreload 2"
   ],
   "id": "5a4ef941ee156b17",
   "outputs": [],
   "execution_count": 2
  },
  {
   "cell_type": "code",
   "id": "278bedd5-948d-4dab-8f96-e85e37d3c8f3",
   "metadata": {
    "tags": [],
    "ExecuteTime": {
     "end_time": "2025-05-22T21:09:56.991720Z",
     "start_time": "2025-05-22T21:09:49.416385Z"
    }
   },
   "source": [
    "search_response = requests.post(url=URL_DATABASE, headers=API_HEADERS)\n",
    "search_response_dict = search_response.json()"
   ],
   "outputs": [],
   "execution_count": 3
  },
  {
   "metadata": {
    "ExecuteTime": {
     "end_time": "2025-05-22T21:10:50.322111Z",
     "start_time": "2025-05-22T21:10:46.526555Z"
    }
   },
   "cell_type": "code",
   "source": "results = fetch_database_jsons(url=URL_DATABASE, headers=API_HEADERS)",
   "id": "898fdde4cd57caf8",
   "outputs": [],
   "execution_count": 9
  },
  {
   "metadata": {
    "ExecuteTime": {
     "end_time": "2025-05-23T10:26:11.072802Z",
     "start_time": "2025-05-23T10:26:11.055093Z"
    }
   },
   "cell_type": "code",
   "source": [
    "df = build_dataframe(results)\n",
    "df['date_applied'] = pd.to_datetime(df['date_applied'])\n",
    "df['month_applied'] = df['date_applied'].dt.to_period('M')\n",
    "df['interview'] = ~df['stage'].isin(['Application Sent', 'Rejection'])\n",
    "df['interview_with_cover'] = df['interview'] & df['cover_letter'].isin(['Letter', 'Note'])"
   ],
   "id": "8cefa87630cdc861",
   "outputs": [],
   "execution_count": 81
  },
  {
   "metadata": {
    "ExecuteTime": {
     "end_time": "2025-05-23T13:35:05.683183Z",
     "start_time": "2025-05-23T13:35:05.651313Z"
    }
   },
   "cell_type": "code",
   "source": [
    "df_grouped = df.groupby('month_applied').agg(\n",
    "    n_apps=('job_title', 'count'),\n",
    "    n_cover_letters=('cover_letter', lambda x: x.isin(['Letter', 'Note']).sum()),\n",
    "    n_interviews=('interview', 'sum'),\n",
    "    n_interviews_with_cover=('interview_with_cover', 'sum'),\n",
    ")"
   ],
   "id": "e547dcdfb0fa9a7a",
   "outputs": [],
   "execution_count": 151
  },
  {
   "metadata": {
    "ExecuteTime": {
     "end_time": "2025-05-23T13:35:09.617005Z",
     "start_time": "2025-05-23T13:35:09.603306Z"
    }
   },
   "cell_type": "code",
   "source": "df_grouped",
   "id": "b1e46f7adbc078f1",
   "outputs": [
    {
     "data": {
      "text/plain": [
       "               n_apps  n_cover_letters  n_interviews  n_interviews_with_cover\n",
       "month_applied                                                                \n",
       "2024-01            85                2             1                        0\n",
       "2024-02            47                6             1                        0\n",
       "2024-03             2                2             0                        0\n",
       "2024-04            37                4             1                        1\n",
       "2024-05            33               10             1                        1\n",
       "2024-06            18               17             1                        1\n",
       "2024-07            63               54             2                        2\n",
       "2024-09            20               17             0                        0"
      ],
      "text/html": [
       "<div>\n",
       "<style scoped>\n",
       "    .dataframe tbody tr th:only-of-type {\n",
       "        vertical-align: middle;\n",
       "    }\n",
       "\n",
       "    .dataframe tbody tr th {\n",
       "        vertical-align: top;\n",
       "    }\n",
       "\n",
       "    .dataframe thead th {\n",
       "        text-align: right;\n",
       "    }\n",
       "</style>\n",
       "<table border=\"1\" class=\"dataframe\">\n",
       "  <thead>\n",
       "    <tr style=\"text-align: right;\">\n",
       "      <th></th>\n",
       "      <th>n_apps</th>\n",
       "      <th>n_cover_letters</th>\n",
       "      <th>n_interviews</th>\n",
       "      <th>n_interviews_with_cover</th>\n",
       "    </tr>\n",
       "    <tr>\n",
       "      <th>month_applied</th>\n",
       "      <th></th>\n",
       "      <th></th>\n",
       "      <th></th>\n",
       "      <th></th>\n",
       "    </tr>\n",
       "  </thead>\n",
       "  <tbody>\n",
       "    <tr>\n",
       "      <th>2024-01</th>\n",
       "      <td>85</td>\n",
       "      <td>2</td>\n",
       "      <td>1</td>\n",
       "      <td>0</td>\n",
       "    </tr>\n",
       "    <tr>\n",
       "      <th>2024-02</th>\n",
       "      <td>47</td>\n",
       "      <td>6</td>\n",
       "      <td>1</td>\n",
       "      <td>0</td>\n",
       "    </tr>\n",
       "    <tr>\n",
       "      <th>2024-03</th>\n",
       "      <td>2</td>\n",
       "      <td>2</td>\n",
       "      <td>0</td>\n",
       "      <td>0</td>\n",
       "    </tr>\n",
       "    <tr>\n",
       "      <th>2024-04</th>\n",
       "      <td>37</td>\n",
       "      <td>4</td>\n",
       "      <td>1</td>\n",
       "      <td>1</td>\n",
       "    </tr>\n",
       "    <tr>\n",
       "      <th>2024-05</th>\n",
       "      <td>33</td>\n",
       "      <td>10</td>\n",
       "      <td>1</td>\n",
       "      <td>1</td>\n",
       "    </tr>\n",
       "    <tr>\n",
       "      <th>2024-06</th>\n",
       "      <td>18</td>\n",
       "      <td>17</td>\n",
       "      <td>1</td>\n",
       "      <td>1</td>\n",
       "    </tr>\n",
       "    <tr>\n",
       "      <th>2024-07</th>\n",
       "      <td>63</td>\n",
       "      <td>54</td>\n",
       "      <td>2</td>\n",
       "      <td>2</td>\n",
       "    </tr>\n",
       "    <tr>\n",
       "      <th>2024-09</th>\n",
       "      <td>20</td>\n",
       "      <td>17</td>\n",
       "      <td>0</td>\n",
       "      <td>0</td>\n",
       "    </tr>\n",
       "  </tbody>\n",
       "</table>\n",
       "</div>"
      ]
     },
     "execution_count": 152,
     "metadata": {},
     "output_type": "execute_result"
    }
   ],
   "execution_count": 152
  },
  {
   "metadata": {
    "ExecuteTime": {
     "end_time": "2025-05-23T13:39:55.739826Z",
     "start_time": "2025-05-23T13:39:55.723210Z"
    }
   },
   "cell_type": "code",
   "source": [
    "print(\n",
    "    \"Average number of applications with cover letter per interview:\",\n",
    "    df_grouped.loc[df_grouped['n_interviews_with_cover'] > 0, 'n_apps'].sum()\n",
    "    / df_grouped['n_interviews_with_cover'].sum()\n",
    ")\n",
    "print(\n",
    "    \"Average number of applications per interview:\",\n",
    "    round(df_grouped['n_apps'].sum() / df_grouped['n_interviews'].sum(), 2)\n",
    ")"
   ],
   "id": "37abcc0fae3ae88b",
   "outputs": [
    {
     "name": "stdout",
     "output_type": "stream",
     "text": [
      "Average number of applications with cover letter per interview: 30.2\n",
      "Average number of applications per interview: 43.57\n"
     ]
    }
   ],
   "execution_count": 162
  },
  {
   "metadata": {
    "ExecuteTime": {
     "end_time": "2025-05-23T10:58:56.329621Z",
     "start_time": "2025-05-23T10:58:56.305882Z"
    }
   },
   "cell_type": "code",
   "source": [
    "df_interview = df.loc[df['interview']].sort_values(by='date_applied', ascending=True)\n",
    "application_dt = df_interview.loc[:, 'date_applied'].diff()\n",
    "df_interview = pd.concat([application_dt, df_interview], axis=1)"
   ],
   "id": "b6792af679ac0a13",
   "outputs": [],
   "execution_count": 116
  },
  {
   "metadata": {
    "ExecuteTime": {
     "end_time": "2025-05-23T10:58:58.103485Z",
     "start_time": "2025-05-23T10:58:58.091115Z"
    }
   },
   "cell_type": "code",
   "source": "df_interview",
   "id": "c95ecedc83fea4c8",
   "outputs": [
    {
     "data": {
      "text/plain": [
       "    date_applied                                        job_title  \\\n",
       "283          NaT  Data science / Power system engineer internship   \n",
       "50       27 days                                   Data Scientist   \n",
       "154      82 days                           Docteur Data Scientist   \n",
       "103      30 days                                   Data Scientist   \n",
       "100       5 days                                   Data Scientist   \n",
       "43       44 days                                   Data scientist   \n",
       "33        5 days               Jeune Docteur - Data Scientist R&D   \n",
       "\n",
       "               company date_applied                 origin             stage  \\\n",
       "283  Rte International   2024-01-11                 Indeed   First Interview   \n",
       "50              Aquila   2024-02-07                   APEC  Second Interview   \n",
       "154          Bimbamjob   2024-04-29  Welcome To The Jungle   First Interview   \n",
       "103         Hello Watt   2024-05-29  Welcome To The Jungle   Final interview   \n",
       "100           Dataleon   2024-06-03  Welcome To The Jungle   First Interview   \n",
       "43              Wecasa   2024-07-17  Welcome To The Jungle   First Interview   \n",
       "33             Yanport   2024-07-22  Welcome To The Jungle             Offer   \n",
       "\n",
       "                                       job_description cover_letter  \\\n",
       "283  https://fr.indeed.com/jobs?q=data+scientist&l=...         None   \n",
       "50                                                None         None   \n",
       "154  https://www.welcometothejungle.com/en/companie...       Letter   \n",
       "103  https://www.welcometothejungle.com/en/companie...       Letter   \n",
       "100  https://www.welcometothejungle.com/en/companie...       Letter   \n",
       "43   https://www.welcometothejungle.com/en/companie...       Letter   \n",
       "33   https://www.welcometothejungle.com/en/companie...       Letter   \n",
       "\n",
       "    month_applied  interview  interview_with_cover  \n",
       "283       2024-01       True                 False  \n",
       "50        2024-02       True                 False  \n",
       "154       2024-04       True                  True  \n",
       "103       2024-05       True                  True  \n",
       "100       2024-06       True                  True  \n",
       "43        2024-07       True                  True  \n",
       "33        2024-07       True                  True  "
      ],
      "text/html": [
       "<div>\n",
       "<style scoped>\n",
       "    .dataframe tbody tr th:only-of-type {\n",
       "        vertical-align: middle;\n",
       "    }\n",
       "\n",
       "    .dataframe tbody tr th {\n",
       "        vertical-align: top;\n",
       "    }\n",
       "\n",
       "    .dataframe thead th {\n",
       "        text-align: right;\n",
       "    }\n",
       "</style>\n",
       "<table border=\"1\" class=\"dataframe\">\n",
       "  <thead>\n",
       "    <tr style=\"text-align: right;\">\n",
       "      <th></th>\n",
       "      <th>date_applied</th>\n",
       "      <th>job_title</th>\n",
       "      <th>company</th>\n",
       "      <th>date_applied</th>\n",
       "      <th>origin</th>\n",
       "      <th>stage</th>\n",
       "      <th>job_description</th>\n",
       "      <th>cover_letter</th>\n",
       "      <th>month_applied</th>\n",
       "      <th>interview</th>\n",
       "      <th>interview_with_cover</th>\n",
       "    </tr>\n",
       "  </thead>\n",
       "  <tbody>\n",
       "    <tr>\n",
       "      <th>283</th>\n",
       "      <td>NaT</td>\n",
       "      <td>Data science / Power system engineer internship</td>\n",
       "      <td>Rte International</td>\n",
       "      <td>2024-01-11</td>\n",
       "      <td>Indeed</td>\n",
       "      <td>First Interview</td>\n",
       "      <td>https://fr.indeed.com/jobs?q=data+scientist&amp;l=...</td>\n",
       "      <td>None</td>\n",
       "      <td>2024-01</td>\n",
       "      <td>True</td>\n",
       "      <td>False</td>\n",
       "    </tr>\n",
       "    <tr>\n",
       "      <th>50</th>\n",
       "      <td>27 days</td>\n",
       "      <td>Data Scientist</td>\n",
       "      <td>Aquila</td>\n",
       "      <td>2024-02-07</td>\n",
       "      <td>APEC</td>\n",
       "      <td>Second Interview</td>\n",
       "      <td>None</td>\n",
       "      <td>None</td>\n",
       "      <td>2024-02</td>\n",
       "      <td>True</td>\n",
       "      <td>False</td>\n",
       "    </tr>\n",
       "    <tr>\n",
       "      <th>154</th>\n",
       "      <td>82 days</td>\n",
       "      <td>Docteur Data Scientist</td>\n",
       "      <td>Bimbamjob</td>\n",
       "      <td>2024-04-29</td>\n",
       "      <td>Welcome To The Jungle</td>\n",
       "      <td>First Interview</td>\n",
       "      <td>https://www.welcometothejungle.com/en/companie...</td>\n",
       "      <td>Letter</td>\n",
       "      <td>2024-04</td>\n",
       "      <td>True</td>\n",
       "      <td>True</td>\n",
       "    </tr>\n",
       "    <tr>\n",
       "      <th>103</th>\n",
       "      <td>30 days</td>\n",
       "      <td>Data Scientist</td>\n",
       "      <td>Hello Watt</td>\n",
       "      <td>2024-05-29</td>\n",
       "      <td>Welcome To The Jungle</td>\n",
       "      <td>Final interview</td>\n",
       "      <td>https://www.welcometothejungle.com/en/companie...</td>\n",
       "      <td>Letter</td>\n",
       "      <td>2024-05</td>\n",
       "      <td>True</td>\n",
       "      <td>True</td>\n",
       "    </tr>\n",
       "    <tr>\n",
       "      <th>100</th>\n",
       "      <td>5 days</td>\n",
       "      <td>Data Scientist</td>\n",
       "      <td>Dataleon</td>\n",
       "      <td>2024-06-03</td>\n",
       "      <td>Welcome To The Jungle</td>\n",
       "      <td>First Interview</td>\n",
       "      <td>https://www.welcometothejungle.com/en/companie...</td>\n",
       "      <td>Letter</td>\n",
       "      <td>2024-06</td>\n",
       "      <td>True</td>\n",
       "      <td>True</td>\n",
       "    </tr>\n",
       "    <tr>\n",
       "      <th>43</th>\n",
       "      <td>44 days</td>\n",
       "      <td>Data scientist</td>\n",
       "      <td>Wecasa</td>\n",
       "      <td>2024-07-17</td>\n",
       "      <td>Welcome To The Jungle</td>\n",
       "      <td>First Interview</td>\n",
       "      <td>https://www.welcometothejungle.com/en/companie...</td>\n",
       "      <td>Letter</td>\n",
       "      <td>2024-07</td>\n",
       "      <td>True</td>\n",
       "      <td>True</td>\n",
       "    </tr>\n",
       "    <tr>\n",
       "      <th>33</th>\n",
       "      <td>5 days</td>\n",
       "      <td>Jeune Docteur - Data Scientist R&amp;D</td>\n",
       "      <td>Yanport</td>\n",
       "      <td>2024-07-22</td>\n",
       "      <td>Welcome To The Jungle</td>\n",
       "      <td>Offer</td>\n",
       "      <td>https://www.welcometothejungle.com/en/companie...</td>\n",
       "      <td>Letter</td>\n",
       "      <td>2024-07</td>\n",
       "      <td>True</td>\n",
       "      <td>True</td>\n",
       "    </tr>\n",
       "  </tbody>\n",
       "</table>\n",
       "</div>"
      ]
     },
     "execution_count": 117,
     "metadata": {},
     "output_type": "execute_result"
    }
   ],
   "execution_count": 117
  },
  {
   "metadata": {
    "ExecuteTime": {
     "end_time": "2025-05-23T11:33:47.739821Z",
     "start_time": "2025-05-23T11:33:47.719459Z"
    }
   },
   "cell_type": "code",
   "source": [
    "from datetime import date, timedelta\n",
    "\n",
    "chomage_days = 174\n",
    "start_date = pd.to_datetime(\"2025-06-01\").date()\n",
    "\n",
    "last_chomage_day = start_date + timedelta(chomage_days)\n",
    "print(\"Chomage last day:\", last_chomage_day)\n",
    "\n",
    "end_date = last_chomage_day\n",
    "\n",
    "days = pd.date_range(start=start_date, end=end_date)\n",
    "weekdays = days[~days.weekday.isin([5, 6])]\n",
    "print(f\"Weekdays from {start_date} to {last_chomage_day}:\", len(weekdays))"
   ],
   "id": "6d315997eadfe4bb",
   "outputs": [
    {
     "name": "stdout",
     "output_type": "stream",
     "text": [
      "Chomage last day: 2025-11-22\n",
      "Weekdays from 2025-06-01 to 2025-11-22: 125\n"
     ]
    }
   ],
   "execution_count": 149
  },
  {
   "metadata": {
    "ExecuteTime": {
     "end_time": "2025-05-23T11:33:52.203590Z",
     "start_time": "2025-05-23T11:33:52.188219Z"
    }
   },
   "cell_type": "code",
   "source": "len(weekdays) * 5",
   "id": "26b375e09e794ac4",
   "outputs": [
    {
     "data": {
      "text/plain": [
       "625"
      ]
     },
     "execution_count": 150,
     "metadata": {},
     "output_type": "execute_result"
    }
   ],
   "execution_count": 150
  }
 ],
 "metadata": {
  "kernelspec": {
   "display_name": "Python 3 (ipykernel)",
   "language": "python",
   "name": "python3"
  },
  "language_info": {
   "codemirror_mode": {
    "name": "ipython",
    "version": 3
   },
   "file_extension": ".py",
   "mimetype": "text/x-python",
   "name": "python",
   "nbconvert_exporter": "python",
   "pygments_lexer": "ipython3",
   "version": "3.10.6"
  }
 },
 "nbformat": 4,
 "nbformat_minor": 5
}
