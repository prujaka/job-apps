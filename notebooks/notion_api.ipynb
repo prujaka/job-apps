{
 "cells": [
  {
   "cell_type": "code",
   "id": "5176cc025050729a",
   "metadata": {
    "ExecuteTime": {
     "end_time": "2025-06-02T14:35:45.753416Z",
     "start_time": "2025-06-02T14:35:45.489793Z"
    }
   },
   "source": [
    "from datetime import timedelta\n",
    "\n",
    "import numpy as np\n",
    "import pandas as pd\n",
    "import requests\n",
    "\n",
    "from job_apps.api_requests import fetch_database_jsons\n",
    "from job_apps.constants import API_HEADERS, URL_DATABASE\n",
    "from job_apps.data_preprocessing import build_dataframe"
   ],
   "outputs": [],
   "execution_count": 1
  },
  {
   "metadata": {
    "ExecuteTime": {
     "end_time": "2025-06-02T14:35:45.888095Z",
     "start_time": "2025-06-02T14:35:45.831728Z"
    }
   },
   "cell_type": "code",
   "source": [
    "%load_ext autoreload\n",
    "%autoreload 2"
   ],
   "id": "5a4ef941ee156b17",
   "outputs": [],
   "execution_count": 2
  },
  {
   "cell_type": "code",
   "id": "278bedd5-948d-4dab-8f96-e85e37d3c8f3",
   "metadata": {
    "tags": [],
    "ExecuteTime": {
     "end_time": "2025-06-02T14:35:47.157774Z",
     "start_time": "2025-06-02T14:35:45.895163Z"
    }
   },
   "source": [
    "search_response = requests.post(url=URL_DATABASE, headers=API_HEADERS)\n",
    "search_response_dict = search_response.json()"
   ],
   "outputs": [],
   "execution_count": 3
  },
  {
   "metadata": {
    "ExecuteTime": {
     "end_time": "2025-06-02T14:35:54.622740Z",
     "start_time": "2025-06-02T14:35:47.171989Z"
    }
   },
   "cell_type": "code",
   "source": "results = fetch_database_jsons(url=URL_DATABASE, headers=API_HEADERS)",
   "id": "898fdde4cd57caf8",
   "outputs": [],
   "execution_count": 4
  },
  {
   "metadata": {
    "ExecuteTime": {
     "end_time": "2025-06-02T15:06:53.087085Z",
     "start_time": "2025-06-02T15:06:53.067265Z"
    }
   },
   "cell_type": "code",
   "source": [
    "df_base = build_dataframe(results)\n",
    "df_base['date_applied'] = pd.to_datetime(df_base['date_applied'])\n",
    "df_base = df_base.sort_values(by='date_applied', ascending=True)\n",
    "df_base.reset_index(inplace=True, drop='index')\n",
    "df_base['month_applied'] = df_base['date_applied'].dt.to_period('M')\n",
    "df_base['interview'] = ~df_base['stage'].isin(['Application Sent', 'Rejection'])\n",
    "df_base['interview_with_cover'] = df_base['interview'] & df_base['cover_letter'].isin(['Letter', 'Note'])"
   ],
   "id": "8cefa87630cdc861",
   "outputs": [],
   "execution_count": 124
  },
  {
   "metadata": {
    "ExecuteTime": {
     "end_time": "2025-06-02T15:06:53.195580Z",
     "start_time": "2025-06-02T15:06:53.182461Z"
    }
   },
   "cell_type": "code",
   "source": [
    "df_grouped = df_base.groupby('month_applied').agg(\n",
    "    n_apps=('job_title', 'count'),\n",
    "    n_cover_letters=('cover_letter', lambda x: x.isin(['Letter', 'Note']).sum()),\n",
    "    n_interviews=('interview', 'sum'),\n",
    "    n_interviews_with_cover=('interview_with_cover', 'sum'),\n",
    ")"
   ],
   "id": "e547dcdfb0fa9a7a",
   "outputs": [],
   "execution_count": 125
  },
  {
   "metadata": {
    "ExecuteTime": {
     "end_time": "2025-06-02T15:06:53.345566Z",
     "start_time": "2025-06-02T15:06:53.333319Z"
    }
   },
   "cell_type": "code",
   "source": "df_grouped",
   "id": "b1e46f7adbc078f1",
   "outputs": [
    {
     "data": {
      "text/plain": [
       "               n_apps  n_cover_letters  n_interviews  n_interviews_with_cover\n",
       "month_applied                                                                \n",
       "2024-01            85                2             1                        0\n",
       "2024-02            47                6             1                        0\n",
       "2024-03             2                2             0                        0\n",
       "2024-04            37                4             1                        1\n",
       "2024-05            33               10             1                        1\n",
       "2024-06            18               17             1                        1\n",
       "2024-07            63               54             2                        2\n",
       "2024-09            20               17             0                        0"
      ],
      "text/html": [
       "<div>\n",
       "<style scoped>\n",
       "    .dataframe tbody tr th:only-of-type {\n",
       "        vertical-align: middle;\n",
       "    }\n",
       "\n",
       "    .dataframe tbody tr th {\n",
       "        vertical-align: top;\n",
       "    }\n",
       "\n",
       "    .dataframe thead th {\n",
       "        text-align: right;\n",
       "    }\n",
       "</style>\n",
       "<table border=\"1\" class=\"dataframe\">\n",
       "  <thead>\n",
       "    <tr style=\"text-align: right;\">\n",
       "      <th></th>\n",
       "      <th>n_apps</th>\n",
       "      <th>n_cover_letters</th>\n",
       "      <th>n_interviews</th>\n",
       "      <th>n_interviews_with_cover</th>\n",
       "    </tr>\n",
       "    <tr>\n",
       "      <th>month_applied</th>\n",
       "      <th></th>\n",
       "      <th></th>\n",
       "      <th></th>\n",
       "      <th></th>\n",
       "    </tr>\n",
       "  </thead>\n",
       "  <tbody>\n",
       "    <tr>\n",
       "      <th>2024-01</th>\n",
       "      <td>85</td>\n",
       "      <td>2</td>\n",
       "      <td>1</td>\n",
       "      <td>0</td>\n",
       "    </tr>\n",
       "    <tr>\n",
       "      <th>2024-02</th>\n",
       "      <td>47</td>\n",
       "      <td>6</td>\n",
       "      <td>1</td>\n",
       "      <td>0</td>\n",
       "    </tr>\n",
       "    <tr>\n",
       "      <th>2024-03</th>\n",
       "      <td>2</td>\n",
       "      <td>2</td>\n",
       "      <td>0</td>\n",
       "      <td>0</td>\n",
       "    </tr>\n",
       "    <tr>\n",
       "      <th>2024-04</th>\n",
       "      <td>37</td>\n",
       "      <td>4</td>\n",
       "      <td>1</td>\n",
       "      <td>1</td>\n",
       "    </tr>\n",
       "    <tr>\n",
       "      <th>2024-05</th>\n",
       "      <td>33</td>\n",
       "      <td>10</td>\n",
       "      <td>1</td>\n",
       "      <td>1</td>\n",
       "    </tr>\n",
       "    <tr>\n",
       "      <th>2024-06</th>\n",
       "      <td>18</td>\n",
       "      <td>17</td>\n",
       "      <td>1</td>\n",
       "      <td>1</td>\n",
       "    </tr>\n",
       "    <tr>\n",
       "      <th>2024-07</th>\n",
       "      <td>63</td>\n",
       "      <td>54</td>\n",
       "      <td>2</td>\n",
       "      <td>2</td>\n",
       "    </tr>\n",
       "    <tr>\n",
       "      <th>2024-09</th>\n",
       "      <td>20</td>\n",
       "      <td>17</td>\n",
       "      <td>0</td>\n",
       "      <td>0</td>\n",
       "    </tr>\n",
       "  </tbody>\n",
       "</table>\n",
       "</div>"
      ]
     },
     "execution_count": 126,
     "metadata": {},
     "output_type": "execute_result"
    }
   ],
   "execution_count": 126
  },
  {
   "metadata": {
    "ExecuteTime": {
     "end_time": "2025-06-02T15:06:53.490464Z",
     "start_time": "2025-06-02T15:06:53.480693Z"
    }
   },
   "cell_type": "code",
   "source": [
    "print(\n",
    "    \"Average number of applications with cover letter per interview:\",\n",
    "    df_grouped.loc[df_grouped['n_interviews_with_cover'] > 0, 'n_apps'].sum()\n",
    "    / df_grouped['n_interviews_with_cover'].sum()\n",
    ")\n",
    "print(\n",
    "    \"Average number of applications per interview:\",\n",
    "    round(df_grouped['n_apps'].sum() / df_grouped['n_interviews'].sum(), 2)\n",
    ")"
   ],
   "id": "37abcc0fae3ae88b",
   "outputs": [
    {
     "name": "stdout",
     "output_type": "stream",
     "text": [
      "Average number of applications with cover letter per interview: 30.2\n",
      "Average number of applications per interview: 43.57\n"
     ]
    }
   ],
   "execution_count": 127
  },
  {
   "metadata": {
    "ExecuteTime": {
     "end_time": "2025-06-02T15:06:53.634895Z",
     "start_time": "2025-06-02T15:06:53.622899Z"
    }
   },
   "cell_type": "code",
   "source": [
    "df_interview = df_base.loc[df_base['interview']].sort_values(by='date_applied', ascending=True)\n",
    "application_dt = df_interview.loc[:, 'date_applied'].diff()\n",
    "application_dt = application_dt.rename('dt_applied')\n",
    "df_interview = pd.concat([application_dt, df_interview], axis=1)\n",
    "df_interview['n_apps_before_previous_interview'] = df_interview.index.diff().fillna(df_interview.index[0]).astype(int).to_list()"
   ],
   "id": "b6792af679ac0a13",
   "outputs": [],
   "execution_count": 128
  },
  {
   "metadata": {
    "ExecuteTime": {
     "end_time": "2025-06-02T15:06:53.777015Z",
     "start_time": "2025-06-02T15:06:53.763676Z"
    }
   },
   "cell_type": "code",
   "source": "df_interview",
   "id": "c95ecedc83fea4c8",
   "outputs": [
    {
     "data": {
      "text/plain": [
       "    dt_applied                                        job_title  \\\n",
       "15         NaT  Data science / Power system engineer internship   \n",
       "116    27 days                                   Data Scientist   \n",
       "152    82 days                           Docteur Data Scientist   \n",
       "201    30 days                                   Data Scientist   \n",
       "204     5 days                                   Data Scientist   \n",
       "261    44 days                                   Data scientist   \n",
       "270     5 days               Jeune Docteur - Data Scientist R&D   \n",
       "\n",
       "               company date_applied                 origin             stage  \\\n",
       "15   Rte International   2024-01-11                 Indeed   First Interview   \n",
       "116             Aquila   2024-02-07                   APEC  Second Interview   \n",
       "152          Bimbamjob   2024-04-29  Welcome To The Jungle   First Interview   \n",
       "201         Hello Watt   2024-05-29  Welcome To The Jungle   Final interview   \n",
       "204           Dataleon   2024-06-03  Welcome To The Jungle   First Interview   \n",
       "261             Wecasa   2024-07-17  Welcome To The Jungle   First Interview   \n",
       "270            Yanport   2024-07-22  Welcome To The Jungle             Offer   \n",
       "\n",
       "                                       job_description cover_letter  \\\n",
       "15   https://fr.indeed.com/jobs?q=data+scientist&l=...         None   \n",
       "116                                               None         None   \n",
       "152  https://www.welcometothejungle.com/en/companie...       Letter   \n",
       "201  https://www.welcometothejungle.com/en/companie...       Letter   \n",
       "204  https://www.welcometothejungle.com/en/companie...       Letter   \n",
       "261  https://www.welcometothejungle.com/en/companie...       Letter   \n",
       "270  https://www.welcometothejungle.com/en/companie...       Letter   \n",
       "\n",
       "    month_applied  interview  interview_with_cover  \\\n",
       "15        2024-01       True                 False   \n",
       "116       2024-02       True                 False   \n",
       "152       2024-04       True                  True   \n",
       "201       2024-05       True                  True   \n",
       "204       2024-06       True                  True   \n",
       "261       2024-07       True                  True   \n",
       "270       2024-07       True                  True   \n",
       "\n",
       "     n_apps_before_previous_interview  \n",
       "15                                 15  \n",
       "116                               101  \n",
       "152                                36  \n",
       "201                                49  \n",
       "204                                 3  \n",
       "261                                57  \n",
       "270                                 9  "
      ],
      "text/html": [
       "<div>\n",
       "<style scoped>\n",
       "    .dataframe tbody tr th:only-of-type {\n",
       "        vertical-align: middle;\n",
       "    }\n",
       "\n",
       "    .dataframe tbody tr th {\n",
       "        vertical-align: top;\n",
       "    }\n",
       "\n",
       "    .dataframe thead th {\n",
       "        text-align: right;\n",
       "    }\n",
       "</style>\n",
       "<table border=\"1\" class=\"dataframe\">\n",
       "  <thead>\n",
       "    <tr style=\"text-align: right;\">\n",
       "      <th></th>\n",
       "      <th>dt_applied</th>\n",
       "      <th>job_title</th>\n",
       "      <th>company</th>\n",
       "      <th>date_applied</th>\n",
       "      <th>origin</th>\n",
       "      <th>stage</th>\n",
       "      <th>job_description</th>\n",
       "      <th>cover_letter</th>\n",
       "      <th>month_applied</th>\n",
       "      <th>interview</th>\n",
       "      <th>interview_with_cover</th>\n",
       "      <th>n_apps_before_previous_interview</th>\n",
       "    </tr>\n",
       "  </thead>\n",
       "  <tbody>\n",
       "    <tr>\n",
       "      <th>15</th>\n",
       "      <td>NaT</td>\n",
       "      <td>Data science / Power system engineer internship</td>\n",
       "      <td>Rte International</td>\n",
       "      <td>2024-01-11</td>\n",
       "      <td>Indeed</td>\n",
       "      <td>First Interview</td>\n",
       "      <td>https://fr.indeed.com/jobs?q=data+scientist&amp;l=...</td>\n",
       "      <td>None</td>\n",
       "      <td>2024-01</td>\n",
       "      <td>True</td>\n",
       "      <td>False</td>\n",
       "      <td>15</td>\n",
       "    </tr>\n",
       "    <tr>\n",
       "      <th>116</th>\n",
       "      <td>27 days</td>\n",
       "      <td>Data Scientist</td>\n",
       "      <td>Aquila</td>\n",
       "      <td>2024-02-07</td>\n",
       "      <td>APEC</td>\n",
       "      <td>Second Interview</td>\n",
       "      <td>None</td>\n",
       "      <td>None</td>\n",
       "      <td>2024-02</td>\n",
       "      <td>True</td>\n",
       "      <td>False</td>\n",
       "      <td>101</td>\n",
       "    </tr>\n",
       "    <tr>\n",
       "      <th>152</th>\n",
       "      <td>82 days</td>\n",
       "      <td>Docteur Data Scientist</td>\n",
       "      <td>Bimbamjob</td>\n",
       "      <td>2024-04-29</td>\n",
       "      <td>Welcome To The Jungle</td>\n",
       "      <td>First Interview</td>\n",
       "      <td>https://www.welcometothejungle.com/en/companie...</td>\n",
       "      <td>Letter</td>\n",
       "      <td>2024-04</td>\n",
       "      <td>True</td>\n",
       "      <td>True</td>\n",
       "      <td>36</td>\n",
       "    </tr>\n",
       "    <tr>\n",
       "      <th>201</th>\n",
       "      <td>30 days</td>\n",
       "      <td>Data Scientist</td>\n",
       "      <td>Hello Watt</td>\n",
       "      <td>2024-05-29</td>\n",
       "      <td>Welcome To The Jungle</td>\n",
       "      <td>Final interview</td>\n",
       "      <td>https://www.welcometothejungle.com/en/companie...</td>\n",
       "      <td>Letter</td>\n",
       "      <td>2024-05</td>\n",
       "      <td>True</td>\n",
       "      <td>True</td>\n",
       "      <td>49</td>\n",
       "    </tr>\n",
       "    <tr>\n",
       "      <th>204</th>\n",
       "      <td>5 days</td>\n",
       "      <td>Data Scientist</td>\n",
       "      <td>Dataleon</td>\n",
       "      <td>2024-06-03</td>\n",
       "      <td>Welcome To The Jungle</td>\n",
       "      <td>First Interview</td>\n",
       "      <td>https://www.welcometothejungle.com/en/companie...</td>\n",
       "      <td>Letter</td>\n",
       "      <td>2024-06</td>\n",
       "      <td>True</td>\n",
       "      <td>True</td>\n",
       "      <td>3</td>\n",
       "    </tr>\n",
       "    <tr>\n",
       "      <th>261</th>\n",
       "      <td>44 days</td>\n",
       "      <td>Data scientist</td>\n",
       "      <td>Wecasa</td>\n",
       "      <td>2024-07-17</td>\n",
       "      <td>Welcome To The Jungle</td>\n",
       "      <td>First Interview</td>\n",
       "      <td>https://www.welcometothejungle.com/en/companie...</td>\n",
       "      <td>Letter</td>\n",
       "      <td>2024-07</td>\n",
       "      <td>True</td>\n",
       "      <td>True</td>\n",
       "      <td>57</td>\n",
       "    </tr>\n",
       "    <tr>\n",
       "      <th>270</th>\n",
       "      <td>5 days</td>\n",
       "      <td>Jeune Docteur - Data Scientist R&amp;D</td>\n",
       "      <td>Yanport</td>\n",
       "      <td>2024-07-22</td>\n",
       "      <td>Welcome To The Jungle</td>\n",
       "      <td>Offer</td>\n",
       "      <td>https://www.welcometothejungle.com/en/companie...</td>\n",
       "      <td>Letter</td>\n",
       "      <td>2024-07</td>\n",
       "      <td>True</td>\n",
       "      <td>True</td>\n",
       "      <td>9</td>\n",
       "    </tr>\n",
       "  </tbody>\n",
       "</table>\n",
       "</div>"
      ]
     },
     "execution_count": 129,
     "metadata": {},
     "output_type": "execute_result"
    }
   ],
   "execution_count": 129
  },
  {
   "metadata": {
    "ExecuteTime": {
     "end_time": "2025-06-02T15:06:53.931788Z",
     "start_time": "2025-06-02T15:06:53.920514Z"
    }
   },
   "cell_type": "code",
   "source": [
    "chomage_days = 174\n",
    "start_date = pd.to_datetime(\"2025-06-01\").date()\n",
    "\n",
    "last_chomage_day = start_date + timedelta(chomage_days)\n",
    "print(\"Chomage last day:\", last_chomage_day)\n",
    "\n",
    "end_date = last_chomage_day\n",
    "\n",
    "days = pd.date_range(start=start_date, end=end_date)\n",
    "weekdays = days[~days.weekday.isin([5, 6])]\n",
    "print(f\"Weekdays from {start_date} to {last_chomage_day}:\", len(weekdays))\n",
    "print(\"Number of apps during this period:\", len(weekdays) * 5)"
   ],
   "id": "6d315997eadfe4bb",
   "outputs": [
    {
     "name": "stdout",
     "output_type": "stream",
     "text": [
      "Chomage last day: 2025-11-22\n",
      "Weekdays from 2025-06-01 to 2025-11-22: 125\n",
      "Number of apps during this period: 625\n"
     ]
    }
   ],
   "execution_count": 130
  },
  {
   "metadata": {
    "ExecuteTime": {
     "end_time": "2025-06-02T16:14:02.722810Z",
     "start_time": "2025-06-02T16:14:02.712609Z"
    }
   },
   "cell_type": "code",
   "source": [
    "df_base = df_base.drop(columns=['n_apps_before_previous_interview'], errors='ignore')\n",
    "df_base = df_base.join(df_interview[['n_apps_before_previous_interview']])\n",
    "df_base['n_apps_before_previous_interview'] = df_base['n_apps_before_previous_interview'].map(lambda x: int(x) if not pd.isna(x) else 0)"
   ],
   "id": "15670985f3a98c36",
   "outputs": [],
   "execution_count": 167
  },
  {
   "metadata": {
    "ExecuteTime": {
     "end_time": "2025-06-02T16:17:28.723029Z",
     "start_time": "2025-06-02T16:17:28.705200Z"
    }
   },
   "cell_type": "code",
   "source": "df_base[['job_title', 'company', 'n_apps_before_previous_interview']]",
   "id": "fab0bd2670efe58e",
   "outputs": [
    {
     "data": {
      "text/plain": [
       "                                             job_title             company  \\\n",
       "0                                       Data Scientist         Polyconseil   \n",
       "1                Ingénieur-e de recherche data science        Saint-Gobain   \n",
       "2    Research Scientist Intern, AI Core Machine Lea...                Meta   \n",
       "3                                         Data Analyst    Societe Generale   \n",
       "4     Ingénieur Machine Learning - Imagerie Médicale          BlueDocker   \n",
       "..                                                 ...                 ...   \n",
       "300                                 Modeller – Climate    Iceberg Data Lab   \n",
       "301  Data Scientist - Timesseries Machine Learning ...  Schneider Electric   \n",
       "302                                     Data Scientist            Gameloft   \n",
       "303                           Post docteur Datascience             Finovox   \n",
       "304                                     Data Scientist         Groupe BPCE   \n",
       "\n",
       "     n_apps_before_previous_interview  \n",
       "0                                   0  \n",
       "1                                   0  \n",
       "2                                   0  \n",
       "3                                   0  \n",
       "4                                   0  \n",
       "..                                ...  \n",
       "300                                 0  \n",
       "301                                 0  \n",
       "302                                 0  \n",
       "303                                 0  \n",
       "304                                 0  \n",
       "\n",
       "[305 rows x 3 columns]"
      ],
      "text/html": [
       "<div>\n",
       "<style scoped>\n",
       "    .dataframe tbody tr th:only-of-type {\n",
       "        vertical-align: middle;\n",
       "    }\n",
       "\n",
       "    .dataframe tbody tr th {\n",
       "        vertical-align: top;\n",
       "    }\n",
       "\n",
       "    .dataframe thead th {\n",
       "        text-align: right;\n",
       "    }\n",
       "</style>\n",
       "<table border=\"1\" class=\"dataframe\">\n",
       "  <thead>\n",
       "    <tr style=\"text-align: right;\">\n",
       "      <th></th>\n",
       "      <th>job_title</th>\n",
       "      <th>company</th>\n",
       "      <th>n_apps_before_previous_interview</th>\n",
       "    </tr>\n",
       "  </thead>\n",
       "  <tbody>\n",
       "    <tr>\n",
       "      <th>0</th>\n",
       "      <td>Data Scientist</td>\n",
       "      <td>Polyconseil</td>\n",
       "      <td>0</td>\n",
       "    </tr>\n",
       "    <tr>\n",
       "      <th>1</th>\n",
       "      <td>Ingénieur-e de recherche data science</td>\n",
       "      <td>Saint-Gobain</td>\n",
       "      <td>0</td>\n",
       "    </tr>\n",
       "    <tr>\n",
       "      <th>2</th>\n",
       "      <td>Research Scientist Intern, AI Core Machine Lea...</td>\n",
       "      <td>Meta</td>\n",
       "      <td>0</td>\n",
       "    </tr>\n",
       "    <tr>\n",
       "      <th>3</th>\n",
       "      <td>Data Analyst</td>\n",
       "      <td>Societe Generale</td>\n",
       "      <td>0</td>\n",
       "    </tr>\n",
       "    <tr>\n",
       "      <th>4</th>\n",
       "      <td>Ingénieur Machine Learning - Imagerie Médicale</td>\n",
       "      <td>BlueDocker</td>\n",
       "      <td>0</td>\n",
       "    </tr>\n",
       "    <tr>\n",
       "      <th>...</th>\n",
       "      <td>...</td>\n",
       "      <td>...</td>\n",
       "      <td>...</td>\n",
       "    </tr>\n",
       "    <tr>\n",
       "      <th>300</th>\n",
       "      <td>Modeller – Climate</td>\n",
       "      <td>Iceberg Data Lab</td>\n",
       "      <td>0</td>\n",
       "    </tr>\n",
       "    <tr>\n",
       "      <th>301</th>\n",
       "      <td>Data Scientist - Timesseries Machine Learning ...</td>\n",
       "      <td>Schneider Electric</td>\n",
       "      <td>0</td>\n",
       "    </tr>\n",
       "    <tr>\n",
       "      <th>302</th>\n",
       "      <td>Data Scientist</td>\n",
       "      <td>Gameloft</td>\n",
       "      <td>0</td>\n",
       "    </tr>\n",
       "    <tr>\n",
       "      <th>303</th>\n",
       "      <td>Post docteur Datascience</td>\n",
       "      <td>Finovox</td>\n",
       "      <td>0</td>\n",
       "    </tr>\n",
       "    <tr>\n",
       "      <th>304</th>\n",
       "      <td>Data Scientist</td>\n",
       "      <td>Groupe BPCE</td>\n",
       "      <td>0</td>\n",
       "    </tr>\n",
       "  </tbody>\n",
       "</table>\n",
       "<p>305 rows × 3 columns</p>\n",
       "</div>"
      ]
     },
     "execution_count": 171,
     "metadata": {},
     "output_type": "execute_result"
    }
   ],
   "execution_count": 171
  }
 ],
 "metadata": {
  "kernelspec": {
   "display_name": "Python 3 (ipykernel)",
   "language": "python",
   "name": "python3"
  },
  "language_info": {
   "codemirror_mode": {
    "name": "ipython",
    "version": 3
   },
   "file_extension": ".py",
   "mimetype": "text/x-python",
   "name": "python",
   "nbconvert_exporter": "python",
   "pygments_lexer": "ipython3",
   "version": "3.10.6"
  }
 },
 "nbformat": 4,
 "nbformat_minor": 5
}
