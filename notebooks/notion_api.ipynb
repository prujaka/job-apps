{
 "cells": [
  {
   "cell_type": "code",
   "id": "5176cc025050729a",
   "metadata": {
    "ExecuteTime": {
     "end_time": "2025-05-22T21:09:49.272245Z",
     "start_time": "2025-05-22T21:09:48.987190Z"
    }
   },
   "source": [
    "import pandas as pd\n",
    "import requests\n",
    "\n",
    "from job_apps.constants import API_HEADERS, URL_DATABASE\n",
    "from job_apps.api_requests import fetch_database_jsons\n",
    "from job_apps.data_preprocessing import map_dict, build_dataframe"
   ],
   "outputs": [],
   "execution_count": 1
  },
  {
   "metadata": {
    "ExecuteTime": {
     "end_time": "2025-05-22T21:09:49.409595Z",
     "start_time": "2025-05-22T21:09:49.351923Z"
    }
   },
   "cell_type": "code",
   "source": [
    "%load_ext autoreload\n",
    "%autoreload 2"
   ],
   "id": "5a4ef941ee156b17",
   "outputs": [],
   "execution_count": 2
  },
  {
   "cell_type": "code",
   "id": "278bedd5-948d-4dab-8f96-e85e37d3c8f3",
   "metadata": {
    "tags": [],
    "ExecuteTime": {
     "end_time": "2025-05-22T21:09:56.991720Z",
     "start_time": "2025-05-22T21:09:49.416385Z"
    }
   },
   "source": [
    "search_response = requests.post(url=URL_DATABASE, headers=API_HEADERS)\n",
    "search_response_dict = search_response.json()"
   ],
   "outputs": [],
   "execution_count": 3
  },
  {
   "metadata": {
    "ExecuteTime": {
     "end_time": "2025-05-22T21:10:50.322111Z",
     "start_time": "2025-05-22T21:10:46.526555Z"
    }
   },
   "cell_type": "code",
   "source": "results = fetch_database_jsons(url=URL_DATABASE, headers=API_HEADERS)",
   "id": "898fdde4cd57caf8",
   "outputs": [],
   "execution_count": 9
  },
  {
   "metadata": {
    "ExecuteTime": {
     "end_time": "2025-05-22T21:21:37.260613Z",
     "start_time": "2025-05-22T21:21:37.239994Z"
    }
   },
   "cell_type": "code",
   "source": [
    "df = build_dataframe(results)\n",
    "df['date_applied'] = pd.to_datetime(df['date_applied'])\n",
    "df['month_applied'] = df['date_applied'].map(lambda x: x.date().month)"
   ],
   "id": "8cefa87630cdc861",
   "outputs": [],
   "execution_count": 36
  },
  {
   "cell_type": "code",
   "id": "b22d0178-673a-4596-bab5-3210f989f760",
   "metadata": {
    "ExecuteTime": {
     "end_time": "2025-05-22T21:23:52.474148Z",
     "start_time": "2025-05-22T21:23:52.459524Z"
    }
   },
   "source": "df.groupby('month_applied').count()",
   "outputs": [
    {
     "data": {
      "text/plain": [
       "               job_title  company  date_applied  origin  stage  \\\n",
       "month_applied                                                    \n",
       "1                     85       85            85      85     85   \n",
       "2                     47       47            47      46     47   \n",
       "3                      2        2             2       2      2   \n",
       "4                     37       37            37      37     37   \n",
       "5                     33       33            33      33     33   \n",
       "6                     18       18            18      18     18   \n",
       "7                     63       63            63      63     63   \n",
       "9                     20       20            20      20     20   \n",
       "\n",
       "               job_description  cover_letter  \n",
       "month_applied                                 \n",
       "1                           84             2  \n",
       "2                           46             6  \n",
       "3                            2             2  \n",
       "4                           37             4  \n",
       "5                           33            10  \n",
       "6                           18            17  \n",
       "7                           63            54  \n",
       "9                           20            17  "
      ],
      "text/html": [
       "<div>\n",
       "<style scoped>\n",
       "    .dataframe tbody tr th:only-of-type {\n",
       "        vertical-align: middle;\n",
       "    }\n",
       "\n",
       "    .dataframe tbody tr th {\n",
       "        vertical-align: top;\n",
       "    }\n",
       "\n",
       "    .dataframe thead th {\n",
       "        text-align: right;\n",
       "    }\n",
       "</style>\n",
       "<table border=\"1\" class=\"dataframe\">\n",
       "  <thead>\n",
       "    <tr style=\"text-align: right;\">\n",
       "      <th></th>\n",
       "      <th>job_title</th>\n",
       "      <th>company</th>\n",
       "      <th>date_applied</th>\n",
       "      <th>origin</th>\n",
       "      <th>stage</th>\n",
       "      <th>job_description</th>\n",
       "      <th>cover_letter</th>\n",
       "    </tr>\n",
       "    <tr>\n",
       "      <th>month_applied</th>\n",
       "      <th></th>\n",
       "      <th></th>\n",
       "      <th></th>\n",
       "      <th></th>\n",
       "      <th></th>\n",
       "      <th></th>\n",
       "      <th></th>\n",
       "    </tr>\n",
       "  </thead>\n",
       "  <tbody>\n",
       "    <tr>\n",
       "      <th>1</th>\n",
       "      <td>85</td>\n",
       "      <td>85</td>\n",
       "      <td>85</td>\n",
       "      <td>85</td>\n",
       "      <td>85</td>\n",
       "      <td>84</td>\n",
       "      <td>2</td>\n",
       "    </tr>\n",
       "    <tr>\n",
       "      <th>2</th>\n",
       "      <td>47</td>\n",
       "      <td>47</td>\n",
       "      <td>47</td>\n",
       "      <td>46</td>\n",
       "      <td>47</td>\n",
       "      <td>46</td>\n",
       "      <td>6</td>\n",
       "    </tr>\n",
       "    <tr>\n",
       "      <th>3</th>\n",
       "      <td>2</td>\n",
       "      <td>2</td>\n",
       "      <td>2</td>\n",
       "      <td>2</td>\n",
       "      <td>2</td>\n",
       "      <td>2</td>\n",
       "      <td>2</td>\n",
       "    </tr>\n",
       "    <tr>\n",
       "      <th>4</th>\n",
       "      <td>37</td>\n",
       "      <td>37</td>\n",
       "      <td>37</td>\n",
       "      <td>37</td>\n",
       "      <td>37</td>\n",
       "      <td>37</td>\n",
       "      <td>4</td>\n",
       "    </tr>\n",
       "    <tr>\n",
       "      <th>5</th>\n",
       "      <td>33</td>\n",
       "      <td>33</td>\n",
       "      <td>33</td>\n",
       "      <td>33</td>\n",
       "      <td>33</td>\n",
       "      <td>33</td>\n",
       "      <td>10</td>\n",
       "    </tr>\n",
       "    <tr>\n",
       "      <th>6</th>\n",
       "      <td>18</td>\n",
       "      <td>18</td>\n",
       "      <td>18</td>\n",
       "      <td>18</td>\n",
       "      <td>18</td>\n",
       "      <td>18</td>\n",
       "      <td>17</td>\n",
       "    </tr>\n",
       "    <tr>\n",
       "      <th>7</th>\n",
       "      <td>63</td>\n",
       "      <td>63</td>\n",
       "      <td>63</td>\n",
       "      <td>63</td>\n",
       "      <td>63</td>\n",
       "      <td>63</td>\n",
       "      <td>54</td>\n",
       "    </tr>\n",
       "    <tr>\n",
       "      <th>9</th>\n",
       "      <td>20</td>\n",
       "      <td>20</td>\n",
       "      <td>20</td>\n",
       "      <td>20</td>\n",
       "      <td>20</td>\n",
       "      <td>20</td>\n",
       "      <td>17</td>\n",
       "    </tr>\n",
       "  </tbody>\n",
       "</table>\n",
       "</div>"
      ]
     },
     "execution_count": 44,
     "metadata": {},
     "output_type": "execute_result"
    }
   ],
   "execution_count": 44
  },
  {
   "metadata": {
    "ExecuteTime": {
     "end_time": "2025-05-22T21:23:12.352458Z",
     "start_time": "2025-05-22T21:23:12.337539Z"
    }
   },
   "cell_type": "code",
   "source": "l",
   "id": "57052b9aaef2a7ee",
   "outputs": [
    {
     "data": {
      "text/plain": [
       "['job_title',\n",
       " 'hui',\n",
       " 'company',\n",
       " 'date_applied',\n",
       " 'origin',\n",
       " 'stage',\n",
       " 'job_description',\n",
       " 'cover_letter',\n",
       " 'month_applied']"
      ]
     },
     "execution_count": 42,
     "metadata": {},
     "output_type": "execute_result"
    }
   ],
   "execution_count": 42
  },
  {
   "metadata": {
    "ExecuteTime": {
     "end_time": "2025-05-22T21:19:45.117616Z",
     "start_time": "2025-05-22T21:19:45.106679Z"
    }
   },
   "cell_type": "code",
   "source": "timestamp.date().month",
   "id": "c9607139808265e9",
   "outputs": [
    {
     "data": {
      "text/plain": [
       "9"
      ]
     },
     "execution_count": 33,
     "metadata": {},
     "output_type": "execute_result"
    }
   ],
   "execution_count": 33
  }
 ],
 "metadata": {
  "kernelspec": {
   "display_name": "Python 3 (ipykernel)",
   "language": "python",
   "name": "python3"
  },
  "language_info": {
   "codemirror_mode": {
    "name": "ipython",
    "version": 3
   },
   "file_extension": ".py",
   "mimetype": "text/x-python",
   "name": "python",
   "nbconvert_exporter": "python",
   "pygments_lexer": "ipython3",
   "version": "3.10.6"
  }
 },
 "nbformat": 4,
 "nbformat_minor": 5
}
